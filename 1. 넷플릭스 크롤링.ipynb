{
 "cells": [
  {
   "cell_type": "markdown",
   "id": "f34b6a14",
   "metadata": {},
   "source": [
    "## 사전준비- 필요한 라이브러리 Import"
   ]
  },
  {
   "cell_type": "code",
   "execution_count": 1,
   "id": "698300a4",
   "metadata": {
    "ExecuteTime": {
     "end_time": "2022-10-12T15:39:06.258984Z",
     "start_time": "2022-10-12T15:39:05.868517Z"
    }
   },
   "outputs": [],
   "source": [
    "from selenium import webdriver\n",
    "from selenium.webdriver.chrome.service import Service\n",
    "from webdriver_manager.chrome import ChromeDriverManager\n",
    "from bs4 import BeautifulSoup\n",
    "import pandas as pd\n",
    "from IPython.display import display"
   ]
  },
  {
   "cell_type": "markdown",
   "id": "51acf277",
   "metadata": {},
   "source": [
    "- 크롬 브라우저 버전 확인 법 > 크롬 > 설정 : 현재 105"
   ]
  },
  {
   "cell_type": "code",
   "execution_count": 14,
   "id": "0772e975",
   "metadata": {
    "ExecuteTime": {
     "end_time": "2022-10-12T16:00:52.577765Z",
     "start_time": "2022-10-12T16:00:50.921220Z"
    }
   },
   "outputs": [
    {
     "name": "stderr",
     "output_type": "stream",
     "text": [
      "/var/folders/8p/jtp835r93yb9kz51k9s_33_00000gn/T/ipykernel_7664/2556985017.py:4: DeprecationWarning: executable_path has been deprecated, please pass in a Service object\n",
      "  driver = webdriver.Chrome(executable_path='/Users/himhimm/Study/crawling/chromedriver')\n"
     ]
    }
   ],
   "source": [
    "chrome_optios = webdriver.ChromeOptions()\n",
    "# driver = webdriver.Chrome(service=Service(ChromeDriverManager(os_type=\"mac_arm64\").install()))\n",
    "# driver = webdriver.Chrome(service=Service(ChromeDriverManager().install()), options=chrome_option)\n",
    "driver = webdriver.Chrome(executable_path='/Users/himhimm/Study/crawling/chromedriver')"
   ]
  },
  {
   "cell_type": "markdown",
   "id": "8f542952",
   "metadata": {},
   "source": [
    "- 에러발생 : ValueError: There is no such driver by url https://chromedriver.storage.googleapis.com/106.0.5249.61/chromedriver_mac64_m1.zip\n",
    "\n",
    "\n",
    "=> mac의 google chrome url이 변경 된 것 같아보임...\n",
    "\n"
   ]
  },
  {
   "cell_type": "markdown",
   "id": "d4e6d303",
   "metadata": {},
   "source": [
    "### 1) 섹션 나누기"
   ]
  },
  {
   "cell_type": "code",
   "execution_count": 15,
   "id": "ebbb88d1",
   "metadata": {
    "ExecuteTime": {
     "end_time": "2022-10-12T16:00:58.840436Z",
     "start_time": "2022-10-12T16:00:55.388521Z"
    }
   },
   "outputs": [],
   "source": [
    "# 넷플릭스 사이트 주소 넣어주기\n",
    "url = 'https://www.netflix.com/kr/browse/genre/839338'\n",
    "driver.get(url)"
   ]
  },
  {
   "cell_type": "code",
   "execution_count": 16,
   "id": "85def1c2",
   "metadata": {
    "ExecuteTime": {
     "end_time": "2022-10-12T16:01:03.415138Z",
     "start_time": "2022-10-12T16:01:03.211987Z"
    }
   },
   "outputs": [],
   "source": [
    "html = driver.page_source # 브라우저가 가지고 있는 정보를 가져옴\n",
    "soup = BeautifulSoup(html, 'html.parser')\n",
    "# html.parser 기준으로 html에 담아있는 정보를 읽어줘!"
   ]
  },
  {
   "cell_type": "code",
   "execution_count": null,
   "id": "e5428587",
   "metadata": {
    "ExecuteTime": {
     "end_time": "2022-10-12T14:58:16.119809Z",
     "start_time": "2022-10-12T14:58:16.119803Z"
    }
   },
   "outputs": [],
   "source": [
    "# soup.select() : 조건에 해당하는 모든 태그를 찾아줘 => 결과는 list 형태"
   ]
  },
  {
   "cell_type": "markdown",
   "id": "19ce7814",
   "metadata": {},
   "source": [
    "`alt + cmd + i` : 맥에서 웹 개발자 모드 단축어"
   ]
  },
  {
   "cell_type": "code",
   "execution_count": 18,
   "id": "b0259672",
   "metadata": {
    "ExecuteTime": {
     "end_time": "2022-10-12T16:03:44.116265Z",
     "start_time": "2022-10-12T16:03:44.072383Z"
    }
   },
   "outputs": [
    {
     "data": {
      "text/plain": [
       "24"
      ]
     },
     "execution_count": 18,
     "metadata": {},
     "output_type": "execute_result"
    }
   ],
   "source": [
    "# 섹션 찾기\n",
    "# 어디에서 찾을 꺼야? -> 변수\n",
    "section_list = soup.select('section')\n",
    "len(section_list)"
   ]
  },
  {
   "cell_type": "code",
   "execution_count": 19,
   "id": "0bb728f0",
   "metadata": {
    "ExecuteTime": {
     "end_time": "2022-10-12T16:03:44.365901Z",
     "start_time": "2022-10-12T16:03:44.362889Z"
    }
   },
   "outputs": [],
   "source": [
    "## 내가 실제로 찾을려고 하는 태그 묶음의 정답을 알경우\n",
    "# -> 원하는 정보 찾을 때까지 조절\n",
    "\n",
    "## 내가 정답을 모를 경우 -> 처음, 마지막, 중간 샘플로 살펴봄"
   ]
  },
  {
   "cell_type": "code",
   "execution_count": 42,
   "id": "4f28510d",
   "metadata": {
    "ExecuteTime": {
     "end_time": "2022-10-12T16:13:52.459014Z",
     "start_time": "2022-10-12T16:13:52.433373Z"
    }
   },
   "outputs": [
    {
     "data": {
      "text/plain": [
       "<section class=\"nm-collections-row\" data-uia=\"collections-row\"><h2 class=\"nm-collections-row-name\" data-uia=\"collections-row-title\"><a class=\"nm-collections-link\" href=\"https://www.netflix.com/kr/browse/genre/1365\"><span class=\"nm-collections-row-name\">넷플릭스 인기 콘텐츠</span><span class=\"nm-collections-row-link\">더 살펴보기</span></a></h2><div aria-hidden=\"false\" class=\"nm-content-horizontal-row\"><ul class=\"nm-content-horizontal-row-item-container\"><li class=\"nm-content-horizontal-row-item\" data-uia=\"collections-row-item\"><a class=\"nm-collections-title nm-collections-link\" data-uia=\"collections-title\" href=\"https://www.netflix.com/kr/title/81343748\"><img alt=\"\" class=\"nm-collections-title-img\" data-title-id=\"81343748\" src=\"https://occ-0-2794-988.1.nflxso.net/dnm/api/v6/6gmvu2hxdfnQ55LZZjyzYR4kzGk/AAAABasQef2myp1rKUQx49uRXxukTa3Z5-muOpZB9lBT09nl-gbQ2ZWPPqjlmp3Q3dQ500OYmbrulV42blDqeB_lxPfZsN0ikIJC6slu9qMeuxh452VEd5ckKuEcTBA7wrJeBrf3.jpg?r=50c\"/><span class=\"nm-collections-title-img placeholder\"></span><span class=\"nm-collections-title-name\">수리남</span></a></li><li class=\"nm-content-horizontal-row-item\" data-uia=\"collections-row-item\"><a class=\"nm-collections-title nm-collections-link\" data-uia=\"collections-title\" href=\"https://www.netflix.com/kr/title/80241318\"><img alt=\"\" class=\"nm-collections-title-img\" data-title-id=\"80241318\" src=\"https://occ-0-2794-988.1.nflxso.net/dnm/api/v6/6gmvu2hxdfnQ55LZZjyzYR4kzGk/AAAABfU0SvaSywBx_UQnUx-rxFbmLTlRvtkdoRFp-nBjhtDSLyAW7Gt_KBp_CNALVNnUgi6MvbEiKPD31bIoJIo8OHBC8i8uxc7hc5zN22HH9Wwk7nHL7u299391jQDn1eWNAsZu.jpg?r=b28\"/><span class=\"nm-collections-title-img placeholder\"></span><span class=\"nm-collections-title-name\">매니페스트</span></a></li><li class=\"nm-content-horizontal-row-item\" data-uia=\"collections-row-item\"><a class=\"nm-collections-title nm-collections-link\" data-uia=\"collections-title\" href=\"https://www.netflix.com/kr/title/81287562\"><img alt=\"\" class=\"nm-collections-title-img\" data-title-id=\"81287562\" src=\"https://occ-0-2794-988.1.nflxso.net/dnm/api/v6/6gmvu2hxdfnQ55LZZjyzYR4kzGk/AAAABVrePGqwvLunZiAE2Ta7BE2P8KTv6HFTGEAjfJqAOpZMhXH-dhw5KUvxrm39myrdnRknEV2QmE4aWOLD7XJ2oBg6HhfPlIW-8L_YBGzRNXnJ2zonAskkz5YL_oJ_RgFABB3J.jpg?r=ddc\"/><span class=\"nm-collections-title-img placeholder\"></span><span class=\"nm-collections-title-name\">다머</span></a></li><li class=\"nm-content-horizontal-row-item\" data-uia=\"collections-row-item\"><a class=\"nm-collections-title nm-collections-link\" data-uia=\"collections-title\" href=\"https://www.netflix.com/kr/title/80104198\"><img alt=\"\" class=\"nm-collections-title-img\" data-title-id=\"80104198\" src=\"https://occ-0-2794-988.1.nflxso.net/dnm/api/v6/6gmvu2hxdfnQ55LZZjyzYR4kzGk/AAAABdy6Js5GmZtzVrd_KxlVCKt6MUjzXxMjl3gZsJB4VyTF7m6J47rxASM5On9E-OW3C4e_RlmZ7jT2JFW_D8B9YTpAIwW2meHfzxzrYW4QDkVdGTmcFhxWFEjkFHjvJlpo0Z_I.jpg?r=171\"/><span class=\"nm-collections-title-img placeholder\"></span><span class=\"nm-collections-title-name\">로스트 인 스페이스</span></a></li><li class=\"nm-content-horizontal-row-item\" data-uia=\"collections-row-item\"><a class=\"nm-collections-title nm-collections-link\" data-uia=\"collections-title\" href=\"https://www.netflix.com/kr/title/81312802\"><img alt=\"\" class=\"nm-collections-title-img\" data-title-id=\"81312802\" src=\"https://occ-0-2794-988.1.nflxso.net/dnm/api/v6/6gmvu2hxdfnQ55LZZjyzYR4kzGk/AAAABTBpOGewUpY6u95kAOOLjbO98_qDq2V2YS__b1unakcYDd8Q13qfFgoVorSgTtifTHb0hue6y78JzHJdgl79crr8BdAo-rRJBnc0ldVzGdwlEmGlQeiLnZANBlMYbChdLkfo.jpg?r=6da\"/><span class=\"nm-collections-title-img placeholder\"></span><span class=\"nm-collections-title-name\">소년심판</span></a></li><li class=\"nm-content-horizontal-row-item\" data-uia=\"collections-row-item\"><a class=\"nm-collections-title nm-collections-link\" data-uia=\"collections-title\" href=\"https://www.netflix.com/kr/title/80117803\"><img alt=\"\" class=\"nm-collections-title-img\" data-title-id=\"80117803\" src=\"https://occ-0-2794-988.1.nflxso.net/dnm/api/v6/6gmvu2hxdfnQ55LZZjyzYR4kzGk/AAAABbC_MWrn9HK_XCyGdS_t6bLowG-wCcFWJUemXfhv6HQ4DHXR-JFzoeIaXSNGbByVxFweAa1LMiAedjv8PPghJahmX5d0Eb9WFA3fm8hUsuJWra8pM2GWWDHmkVqGF10Ghnjq.jpg?r=76d\"/><span class=\"nm-collections-title-img placeholder\"></span><span class=\"nm-collections-title-name\">슈퍼키드 디온</span></a></li><li class=\"nm-content-horizontal-row-item\" data-uia=\"collections-row-item\"><a class=\"nm-collections-title nm-collections-link\" data-uia=\"collections-title\" href=\"https://www.netflix.com/kr/title/80057918\"><img alt=\"\" class=\"nm-collections-title-img\" data-title-id=\"80057918\" src=\"data:image/gif;base64,R0lGODlhAQABAAAAACH5BAEKAAEALAAAAAABAAEAAAICTAEAOw==\"/><span class=\"nm-collections-title-img placeholder\"></span><span class=\"nm-collections-title-name\">루시퍼</span></a></li><li class=\"nm-content-horizontal-row-item\" data-uia=\"collections-row-item\"><a class=\"nm-collections-title nm-collections-link\" data-uia=\"collections-title\" href=\"https://www.netflix.com/kr/title/80057281\"><img alt=\"\" class=\"nm-collections-title-img\" data-title-id=\"80057281\" src=\"data:image/gif;base64,R0lGODlhAQABAAAAACH5BAEKAAEALAAAAAABAAEAAAICTAEAOw==\"/><span class=\"nm-collections-title-img placeholder\"></span><span class=\"nm-collections-title-name\">기묘한 이야기</span></a></li><li class=\"nm-content-horizontal-row-item\" data-uia=\"collections-row-item\"><a class=\"nm-collections-title nm-collections-link\" data-uia=\"collections-title\" href=\"https://www.netflix.com/kr/title/81040344\"><img alt=\"\" class=\"nm-collections-title-img\" data-title-id=\"81040344\" src=\"data:image/gif;base64,R0lGODlhAQABAAAAACH5BAEKAAEALAAAAAABAAEAAAICTAEAOw==\"/><span class=\"nm-collections-title-img placeholder\"></span><span class=\"nm-collections-title-name\">오징어 게임</span></a></li><li class=\"nm-content-horizontal-row-item\" data-uia=\"collections-row-item\"><a class=\"nm-collections-title nm-collections-link\" data-uia=\"collections-title\" href=\"https://www.netflix.com/kr/title/81237994\"><img alt=\"\" class=\"nm-collections-title-img\" data-title-id=\"81237994\" src=\"data:image/gif;base64,R0lGODlhAQABAAAAACH5BAEKAAEALAAAAAABAAEAAAICTAEAOw==\"/><span class=\"nm-collections-title-img placeholder\"></span><span class=\"nm-collections-title-name\">지금 우리 학교는</span></a></li><li class=\"nm-content-horizontal-row-item\" data-uia=\"collections-row-item\"><a class=\"nm-collections-title nm-collections-link\" data-uia=\"collections-title\" href=\"https://www.netflix.com/kr/title/80189685\"><img alt=\"\" class=\"nm-collections-title-img\" data-title-id=\"80189685\" src=\"data:image/gif;base64,R0lGODlhAQABAAAAACH5BAEKAAEALAAAAAABAAEAAAICTAEAOw==\"/><span class=\"nm-collections-title-img placeholder\"></span><span class=\"nm-collections-title-name\">위쳐</span></a></li><li class=\"nm-content-horizontal-row-item\" data-uia=\"collections-row-item\"><a class=\"nm-collections-title nm-collections-link\" data-uia=\"collections-title\" href=\"https://www.netflix.com/kr/title/80211991\"><img alt=\"\" class=\"nm-collections-title-img\" data-title-id=\"80211991\" src=\"data:image/gif;base64,R0lGODlhAQABAAAAACH5BAEKAAEALAAAAAABAAEAAAICTAEAOw==\"/><span class=\"nm-collections-title-img placeholder\"></span><span class=\"nm-collections-title-name\">너의 모든 것</span></a></li><li class=\"nm-content-horizontal-row-item\" data-uia=\"collections-row-item\"><a class=\"nm-collections-title nm-collections-link\" data-uia=\"collections-title\" href=\"https://www.netflix.com/kr/title/80130521\"><img alt=\"\" class=\"nm-collections-title-img\" data-title-id=\"80130521\" src=\"data:image/gif;base64,R0lGODlhAQABAAAAACH5BAEKAAEALAAAAAABAAEAAAICTAEAOw==\"/><span class=\"nm-collections-title-img placeholder\"></span><span class=\"nm-collections-title-name\">꼴찌 마녀 밀드레드</span></a></li><li class=\"nm-content-horizontal-row-item\" data-uia=\"collections-row-item\"><a class=\"nm-collections-title nm-collections-link\" data-uia=\"collections-title\" href=\"https://www.netflix.com/kr/title/80996973\"><img alt=\"\" class=\"nm-collections-title-img\" data-title-id=\"80996973\" src=\"data:image/gif;base64,R0lGODlhAQABAAAAACH5BAEKAAEALAAAAAABAAEAAAICTAEAOw==\"/><span class=\"nm-collections-title-img placeholder\"></span><span class=\"nm-collections-title-name\">절대쌍교</span></a></li><li class=\"nm-content-horizontal-row-item\" data-uia=\"collections-row-item\"><a class=\"nm-collections-title nm-collections-link\" data-uia=\"collections-title\" href=\"https://www.netflix.com/kr/title/81011211\"><img alt=\"\" class=\"nm-collections-title-img\" data-title-id=\"81011211\" src=\"data:image/gif;base64,R0lGODlhAQABAAAAACH5BAEKAAEALAAAAAABAAEAAAICTAEAOw==\"/><span class=\"nm-collections-title-img placeholder\"></span><span class=\"nm-collections-title-name\">마이 네임</span></a></li><li class=\"nm-content-horizontal-row-item\" data-uia=\"collections-row-item\"><a class=\"nm-collections-title nm-collections-link\" data-uia=\"collections-title\" href=\"https://www.netflix.com/kr/title/81349413\"><img alt=\"\" class=\"nm-collections-title-img\" data-title-id=\"81349413\" src=\"data:image/gif;base64,R0lGODlhAQABAAAAACH5BAEKAAEALAAAAAABAAEAAAICTAEAOw==\"/><span class=\"nm-collections-title-img placeholder\"></span><span class=\"nm-collections-title-name\">모범가족</span></a></li><li class=\"nm-content-horizontal-row-item\" data-uia=\"collections-row-item\"><a class=\"nm-collections-title nm-collections-link\" data-uia=\"collections-title\" href=\"https://www.netflix.com/kr/title/80002479\"><img alt=\"\" class=\"nm-collections-title-img\" data-title-id=\"80002479\" src=\"data:image/gif;base64,R0lGODlhAQABAAAAACH5BAEKAAEALAAAAAABAAEAAAICTAEAOw==\"/><span class=\"nm-collections-title-img placeholder\"></span><span class=\"nm-collections-title-name\">피키 블라인더스</span></a></li><li class=\"nm-content-horizontal-row-item\" data-uia=\"collections-row-item\"><a class=\"nm-collections-title nm-collections-link\" data-uia=\"collections-title\" href=\"https://www.netflix.com/kr/title/80113647\"><img alt=\"\" class=\"nm-collections-title-img\" data-title-id=\"80113647\" src=\"data:image/gif;base64,R0lGODlhAQABAAAAACH5BAEKAAEALAAAAAABAAEAAAICTAEAOw==\"/><span class=\"nm-collections-title-img placeholder\"></span><span class=\"nm-collections-title-name\">지정생존자</span></a></li><li class=\"nm-content-horizontal-row-item\" data-uia=\"collections-row-item\"><a class=\"nm-collections-title nm-collections-link\" data-uia=\"collections-title\" href=\"https://www.netflix.com/kr/title/81018682\"><img alt=\"\" class=\"nm-collections-title-img\" data-title-id=\"81018682\" src=\"data:image/gif;base64,R0lGODlhAQABAAAAACH5BAEKAAEALAAAAAABAAEAAAICTAEAOw==\"/><span class=\"nm-collections-title-img placeholder\"></span><span class=\"nm-collections-title-name\">씨 비스트</span></a></li><li class=\"nm-content-horizontal-row-item\" data-uia=\"collections-row-item\"><a class=\"nm-collections-title nm-collections-link\" data-uia=\"collections-title\" href=\"https://www.netflix.com/kr/title/80232398\"><img alt=\"\" class=\"nm-collections-title-img\" data-title-id=\"80232398\" src=\"data:image/gif;base64,R0lGODlhAQABAAAAACH5BAEKAAEALAAAAAABAAEAAAICTAEAOw==\"/><span class=\"nm-collections-title-img placeholder\"></span><span class=\"nm-collections-title-name\">브리저튼</span></a></li><li class=\"nm-content-horizontal-row-item\" data-uia=\"collections-row-item\"><a class=\"nm-collections-title nm-collections-link\" data-uia=\"collections-title\" href=\"https://www.netflix.com/kr/title/81437344\"><img alt=\"\" class=\"nm-collections-title-img\" data-title-id=\"81437344\" src=\"data:image/gif;base64,R0lGODlhAQABAAAAACH5BAEKAAEALAAAAAABAAEAAAICTAEAOw==\"/><span class=\"nm-collections-title-img placeholder\"></span><span class=\"nm-collections-title-name\">서울대작전</span></a></li><li class=\"nm-content-horizontal-row-item\" data-uia=\"collections-row-item\"><a class=\"nm-collections-title nm-collections-link\" data-uia=\"collections-title\" href=\"https://www.netflix.com/kr/title/81227574\"><img alt=\"\" class=\"nm-collections-title-img\" data-title-id=\"81227574\" src=\"data:image/gif;base64,R0lGODlhAQABAAAAACH5BAEKAAEALAAAAAABAAEAAAICTAEAOw==\"/><span class=\"nm-collections-title-img placeholder\"></span><span class=\"nm-collections-title-name\">쿵푸팬더: 용의 기사</span></a></li><li class=\"nm-content-horizontal-row-item\" data-uia=\"collections-row-item\"><a class=\"nm-collections-title nm-collections-link\" data-uia=\"collections-title\" href=\"https://www.netflix.com/kr/title/81037371\"><img alt=\"\" class=\"nm-collections-title-img\" data-title-id=\"81037371\" src=\"data:image/gif;base64,R0lGODlhAQABAAAAACH5BAEKAAEALAAAAAABAAEAAAICTAEAOw==\"/><span class=\"nm-collections-title-img placeholder\"></span><span class=\"nm-collections-title-name\">에밀리, 파리에 가다</span></a></li><li class=\"nm-content-horizontal-row-item\" data-uia=\"collections-row-item\"><a class=\"nm-collections-title nm-collections-link\" data-uia=\"collections-title\" href=\"https://www.netflix.com/kr/title/80991329\"><img alt=\"\" class=\"nm-collections-title-img\" data-title-id=\"80991329\" src=\"data:image/gif;base64,R0lGODlhAQABAAAAACH5BAEKAAEALAAAAAABAAEAAAICTAEAOw==\"/><span class=\"nm-collections-title-img placeholder\"></span><span class=\"nm-collections-title-name\">라바 아일랜드</span></a></li><li class=\"nm-content-horizontal-row-item\" data-uia=\"collections-row-item\"><a class=\"nm-collections-title nm-collections-link\" data-uia=\"collections-title\" href=\"https://www.netflix.com/kr/title/80192098\"><img alt=\"\" class=\"nm-collections-title-img\" data-title-id=\"80192098\" src=\"data:image/gif;base64,R0lGODlhAQABAAAAACH5BAEKAAEALAAAAAABAAEAAAICTAEAOw==\"/><span class=\"nm-collections-title-img placeholder\"></span><span class=\"nm-collections-title-name\">종이의 집</span></a></li><li class=\"nm-content-horizontal-row-item\" data-uia=\"collections-row-item\"><a class=\"nm-collections-title nm-collections-link\" data-uia=\"collections-title\" href=\"https://www.netflix.com/kr/title/80136311\"><img alt=\"\" class=\"nm-collections-title-img\" data-title-id=\"80136311\" src=\"data:image/gif;base64,R0lGODlhAQABAAAAACH5BAEKAAEALAAAAAABAAEAAAICTAEAOw==\"/><span class=\"nm-collections-title-img placeholder\"></span><span class=\"nm-collections-title-name\">빨간 머리 앤</span></a></li><li class=\"nm-content-horizontal-row-item\" data-uia=\"collections-row-item\"><a class=\"nm-collections-title nm-collections-link\" data-uia=\"collections-title\" href=\"https://www.netflix.com/kr/title/80178943\"><img alt=\"\" class=\"nm-collections-title-img\" data-title-id=\"80178943\" src=\"data:image/gif;base64,R0lGODlhAQABAAAAACH5BAEKAAEALAAAAAABAAEAAAICTAEAOw==\"/><span class=\"nm-collections-title-img placeholder\"></span><span class=\"nm-collections-title-name\">보스 베이비: 돌아온 보스</span></a></li><li class=\"nm-content-horizontal-row-item\" data-uia=\"collections-row-item\"><a class=\"nm-collections-title nm-collections-link\" data-uia=\"collections-title\" href=\"https://www.netflix.com/kr/title/81318108\"><img alt=\"\" class=\"nm-collections-title-img\" data-title-id=\"81318108\" src=\"data:image/gif;base64,R0lGODlhAQABAAAAACH5BAEKAAEALAAAAAABAAEAAAICTAEAOw==\"/><span class=\"nm-collections-title-img placeholder\"></span><span class=\"nm-collections-title-name\">하이 워터</span></a></li><li class=\"nm-content-horizontal-row-item\" data-uia=\"collections-row-item\"><a class=\"nm-collections-title nm-collections-link\" data-uia=\"collections-title\" href=\"https://www.netflix.com/kr/title/81005407\"><img alt=\"\" class=\"nm-collections-title-img\" data-title-id=\"81005407\" src=\"data:image/gif;base64,R0lGODlhAQABAAAAACH5BAEKAAEALAAAAAABAAEAAAICTAEAOw==\"/><span class=\"nm-collections-title-img placeholder\"></span><span class=\"nm-collections-title-name\">베이비시터 클럽</span></a></li><li class=\"nm-content-horizontal-row-item\" data-uia=\"collections-row-item\"><a class=\"nm-collections-title nm-collections-link\" data-uia=\"collections-title\" href=\"https://www.netflix.com/kr/title/80025678\"><img alt=\"\" class=\"nm-collections-title-img\" data-title-id=\"80025678\" src=\"data:image/gif;base64,R0lGODlhAQABAAAAACH5BAEKAAEALAAAAAABAAEAAAICTAEAOw==\"/><span class=\"nm-collections-title-img placeholder\"></span><span class=\"nm-collections-title-name\">더 크라운</span></a></li><li class=\"nm-content-horizontal-row-item\" data-uia=\"collections-row-item\"><a class=\"nm-collections-title nm-collections-link\" data-uia=\"collections-title\" href=\"https://www.netflix.com/kr/title/80197526\"><img alt=\"\" class=\"nm-collections-title-img\" data-title-id=\"80197526\" src=\"data:image/gif;base64,R0lGODlhAQABAAAAACH5BAEKAAEALAAAAAABAAEAAAICTAEAOw==\"/><span class=\"nm-collections-title-img placeholder\"></span><span class=\"nm-collections-title-name\">오티스의 비밀 상담소</span></a></li><li class=\"nm-content-horizontal-row-item\" data-uia=\"collections-row-item\"><a class=\"nm-collections-title nm-collections-link\" data-uia=\"collections-title\" href=\"https://www.netflix.com/kr/title/81256675\"><img alt=\"\" class=\"nm-collections-title-img\" data-title-id=\"81256675\" src=\"data:image/gif;base64,R0lGODlhAQABAAAAACH5BAEKAAEALAAAAAABAAEAAAICTAEAOw==\"/><span class=\"nm-collections-title-img placeholder\"></span><span class=\"nm-collections-title-name\">지옥</span></a></li><li class=\"nm-content-horizontal-row-item\" data-uia=\"collections-row-item\"><a class=\"nm-collections-title nm-collections-link\" data-uia=\"collections-title\" href=\"https://www.netflix.com/kr/title/70285581\"><img alt=\"\" class=\"nm-collections-title-img\" data-title-id=\"70285581\" src=\"data:image/gif;base64,R0lGODlhAQABAAAAACH5BAEKAAEALAAAAAABAAEAAAICTAEAOw==\"/><span class=\"nm-collections-title-img placeholder\"></span><span class=\"nm-collections-title-name\">아웃랜더</span></a></li><li class=\"nm-content-horizontal-row-item\" data-uia=\"collections-row-item\"><a class=\"nm-collections-title nm-collections-link\" data-uia=\"collections-title\" href=\"https://www.netflix.com/kr/title/80025172\"><img alt=\"\" class=\"nm-collections-title-img\" data-title-id=\"80025172\" src=\"data:image/gif;base64,R0lGODlhAQABAAAAACH5BAEKAAEALAAAAAABAAEAAAICTAEAOw==\"/><span class=\"nm-collections-title-img placeholder\"></span><span class=\"nm-collections-title-name\">나르코스</span></a></li><li class=\"nm-content-horizontal-row-item\" data-uia=\"collections-row-item\"><a class=\"nm-collections-title nm-collections-link\" data-uia=\"collections-title\" href=\"https://www.netflix.com/kr/title/81442115\"><img alt=\"\" class=\"nm-collections-title-img\" data-title-id=\"81442115\" src=\"data:image/gif;base64,R0lGODlhAQABAAAAACH5BAEKAAEALAAAAAABAAEAAAICTAEAOw==\"/><span class=\"nm-collections-title-img placeholder\"></span><span class=\"nm-collections-title-name\">블랙의 신부</span></a></li><li class=\"nm-content-horizontal-row-item\" data-uia=\"collections-row-item\"><a class=\"nm-collections-title nm-collections-link\" data-uia=\"collections-title\" href=\"https://www.netflix.com/kr/title/81061734\"><img alt=\"\" class=\"nm-collections-title-img\" data-title-id=\"81061734\" src=\"data:image/gif;base64,R0lGODlhAQABAAAAACH5BAEKAAEALAAAAAABAAEAAAICTAEAOw==\"/><span class=\"nm-collections-title-img placeholder\"></span><span class=\"nm-collections-title-name\">스위트홈</span></a></li><li class=\"nm-content-horizontal-row-item\" data-uia=\"collections-row-item\"><a class=\"nm-collections-title nm-collections-link\" data-uia=\"collections-title\" href=\"https://www.netflix.com/kr/title/80242531\"><img alt=\"\" class=\"nm-collections-title-img\" data-title-id=\"80242531\" src=\"data:image/gif;base64,R0lGODlhAQABAAAAACH5BAEKAAEALAAAAAABAAEAAAICTAEAOw==\"/><span class=\"nm-collections-title-img placeholder\"></span><span class=\"nm-collections-title-name\">컵헤드 쇼!</span></a></li><li class=\"nm-content-horizontal-row-item\" data-uia=\"collections-row-item\"><a class=\"nm-collections-title nm-collections-link\" data-uia=\"collections-title\" href=\"https://www.netflix.com/kr/title/80113701\"><img alt=\"\" class=\"nm-collections-title-img\" data-title-id=\"80113701\" src=\"data:image/gif;base64,R0lGODlhAQABAAAAACH5BAEKAAEALAAAAAABAAEAAAICTAEAOw==\"/><span class=\"nm-collections-title-img placeholder\"></span><span class=\"nm-collections-title-name\">굿 플레이스</span></a></li><li class=\"nm-content-horizontal-row-item\" data-uia=\"collections-row-item\"><a class=\"nm-collections-title nm-collections-link\" data-uia=\"collections-title\" href=\"https://www.netflix.com/kr/title/81500342\"><img alt=\"\" class=\"nm-collections-title-img\" data-title-id=\"81500342\" src=\"data:image/gif;base64,R0lGODlhAQABAAAAACH5BAEKAAEALAAAAAABAAEAAAICTAEAOw==\"/><span class=\"nm-collections-title-img placeholder\"></span><span class=\"nm-collections-title-name\">보스 베이비: 다시 베이비로</span></a></li><li class=\"nm-content-horizontal-row-item\" data-uia=\"collections-row-item\"><a class=\"nm-collections-title nm-collections-link\" data-uia=\"collections-title\" href=\"https://www.netflix.com/kr/title/81154899\"><img alt=\"\" class=\"nm-collections-title-img\" data-title-id=\"81154899\" src=\"data:image/gif;base64,R0lGODlhAQABAAAAACH5BAEKAAEALAAAAAABAAEAAAICTAEAOw==\"/><span class=\"nm-collections-title-img placeholder\"></span><span class=\"nm-collections-title-name\">바다 탐험대 옥토넛: 육지 수호 대작전</span></a></li></ul><button aria-label=\"다음\" class=\"nm-content-horizontal-row-nav next\"><span class=\"nm-content-horizontal-row-nav-icon\"><span class=\"nf-svg-icon\"><svg viewbox=\"0 0 18 18\" xmlns=\"http://www.w3.org/2000/svg\"><path d=\"M11.56 5.56L10.5 4.5 6 9l4.5 4.5 1.06-1.06L8.12 9z\" fill=\"currentColor\"></path></svg></span></span><span class=\"nm-content-horizontal-row-gradient\"></span></button></div></section>"
      ]
     },
     "execution_count": 42,
     "metadata": {},
     "output_type": "execute_result"
    }
   ],
   "source": [
    "# 전부 다 태그로 나옴\n",
    "section_list[2]"
   ]
  },
  {
   "cell_type": "code",
   "execution_count": 43,
   "id": "2bdb5f2f",
   "metadata": {
    "ExecuteTime": {
     "end_time": "2022-10-12T16:14:07.917767Z",
     "start_time": "2022-10-12T16:14:07.911180Z"
    }
   },
   "outputs": [
    {
     "data": {
      "text/plain": [
       "'넷플릭스 인기 콘텐츠더 살펴보기수리남매니페스트다머로스트 인 스페이스소년심판슈퍼키드 디온루시퍼기묘한 이야기오징어 게임지금 우리 학교는위쳐너의 모든 것꼴찌 마녀 밀드레드절대쌍교마이 네임모범가족피키 블라인더스지정생존자씨 비스트브리저튼서울대작전쿵푸팬더: 용의 기사에밀리, 파리에 가다라바 아일랜드종이의 집빨간 머리 앤보스 베이비: 돌아온 보스하이 워터베이비시터 클럽더 크라운오티스의 비밀 상담소지옥아웃랜더나르코스블랙의 신부스위트홈컵헤드 쇼!굿 플레이스보스 베이비: 다시 베이비로바다 탐험대 옥토넛: 육지 수호 대작전'"
      ]
     },
     "execution_count": 43,
     "metadata": {},
     "output_type": "execute_result"
    }
   ],
   "source": [
    "# tag.text -> 화면에 보이는 글만 보여줌\n",
    "\n",
    "section_list[2].text"
   ]
  },
  {
   "cell_type": "code",
   "execution_count": 44,
   "id": "608a76ad",
   "metadata": {
    "ExecuteTime": {
     "end_time": "2022-10-12T16:14:09.860118Z",
     "start_time": "2022-10-12T16:14:09.855242Z"
    }
   },
   "outputs": [
    {
     "data": {
      "text/plain": [
       "'스릴러 영화사냥감2위험한 거짓말들내가 그 소녀들이다위크엔드 어웨이뮌헨: 전쟁의 문턱에서우먼 인 윈도1922레드 씨 다이빙 리조트버드 박스스파이더헤드언컷 젬스킬러 와이프아미 오브 더 데드: 도둑들마지막 게임ARQ피파사냥의 시간콜지옥에서 온 전언시크릿 옵세션어웨이크솔로: 벼랑 끝에서 홀로추즈 오어 다이코드명 엔젤O2콜디스트 게임당신의 아들아웃사이더침입자나의 마더타우가질 수 있다면걸 온 더 트레인잠든 여인페리마더/안드로이드오퍼레이션 피날레블랙 아일랜드위험한 만남'"
      ]
     },
     "execution_count": 44,
     "metadata": {},
     "output_type": "execute_result"
    }
   ],
   "source": [
    "section_list[17].text"
   ]
  },
  {
   "cell_type": "markdown",
   "id": "bcfe64cd",
   "metadata": {},
   "source": [
    "section_list에서 17까지의 정보만 필요하므로 그에 따라 작업을 진행해줌\n",
    "\n",
    "-> 17까지의 값만 필요로 하기에 슬라이싱 해줌"
   ]
  },
  {
   "cell_type": "code",
   "execution_count": 45,
   "id": "bca06bfa",
   "metadata": {
    "ExecuteTime": {
     "end_time": "2022-10-12T16:14:14.483821Z",
     "start_time": "2022-10-12T16:14:14.480807Z"
    }
   },
   "outputs": [],
   "source": [
    "section_list = section_list[2:18]"
   ]
  },
  {
   "cell_type": "code",
   "execution_count": 46,
   "id": "4a086546",
   "metadata": {
    "ExecuteTime": {
     "end_time": "2022-10-12T16:14:15.038634Z",
     "start_time": "2022-10-12T16:14:15.033060Z"
    }
   },
   "outputs": [
    {
     "data": {
      "text/plain": [
       "'스릴러 영화사냥감2위험한 거짓말들내가 그 소녀들이다위크엔드 어웨이뮌헨: 전쟁의 문턱에서우먼 인 윈도1922레드 씨 다이빙 리조트버드 박스스파이더헤드언컷 젬스킬러 와이프아미 오브 더 데드: 도둑들마지막 게임ARQ피파사냥의 시간콜지옥에서 온 전언시크릿 옵세션어웨이크솔로: 벼랑 끝에서 홀로추즈 오어 다이코드명 엔젤O2콜디스트 게임당신의 아들아웃사이더침입자나의 마더타우가질 수 있다면걸 온 더 트레인잠든 여인페리마더/안드로이드오퍼레이션 피날레블랙 아일랜드위험한 만남'"
      ]
     },
     "execution_count": 46,
     "metadata": {},
     "output_type": "execute_result"
    }
   ],
   "source": [
    "section_list[-1].text"
   ]
  },
  {
   "cell_type": "markdown",
   "id": "5b72a5c6",
   "metadata": {},
   "source": [
    "### 2) 프로그램 모음 - 네이밍- 찾기 "
   ]
  },
  {
   "cell_type": "code",
   "execution_count": 47,
   "id": "7540db81",
   "metadata": {
    "ExecuteTime": {
     "end_time": "2022-10-12T16:20:49.843301Z",
     "start_time": "2022-10-12T16:20:49.809408Z"
    }
   },
   "outputs": [
    {
     "data": {
      "text/plain": [
       "<section class=\"nm-collections-row\" data-uia=\"collections-row\"><h2 class=\"nm-collections-row-name\" data-uia=\"collections-row-title\"><a class=\"nm-collections-link\" href=\"https://www.netflix.com/kr/browse/genre/1365\"><span class=\"nm-collections-row-name\">넷플릭스 인기 콘텐츠</span><span class=\"nm-collections-row-link\">더 살펴보기</span></a></h2><div aria-hidden=\"false\" class=\"nm-content-horizontal-row\"><ul class=\"nm-content-horizontal-row-item-container\"><li class=\"nm-content-horizontal-row-item\" data-uia=\"collections-row-item\"><a class=\"nm-collections-title nm-collections-link\" data-uia=\"collections-title\" href=\"https://www.netflix.com/kr/title/81343748\"><img alt=\"\" class=\"nm-collections-title-img\" data-title-id=\"81343748\" src=\"https://occ-0-2794-988.1.nflxso.net/dnm/api/v6/6gmvu2hxdfnQ55LZZjyzYR4kzGk/AAAABasQef2myp1rKUQx49uRXxukTa3Z5-muOpZB9lBT09nl-gbQ2ZWPPqjlmp3Q3dQ500OYmbrulV42blDqeB_lxPfZsN0ikIJC6slu9qMeuxh452VEd5ckKuEcTBA7wrJeBrf3.jpg?r=50c\"/><span class=\"nm-collections-title-img placeholder\"></span><span class=\"nm-collections-title-name\">수리남</span></a></li><li class=\"nm-content-horizontal-row-item\" data-uia=\"collections-row-item\"><a class=\"nm-collections-title nm-collections-link\" data-uia=\"collections-title\" href=\"https://www.netflix.com/kr/title/80241318\"><img alt=\"\" class=\"nm-collections-title-img\" data-title-id=\"80241318\" src=\"https://occ-0-2794-988.1.nflxso.net/dnm/api/v6/6gmvu2hxdfnQ55LZZjyzYR4kzGk/AAAABfU0SvaSywBx_UQnUx-rxFbmLTlRvtkdoRFp-nBjhtDSLyAW7Gt_KBp_CNALVNnUgi6MvbEiKPD31bIoJIo8OHBC8i8uxc7hc5zN22HH9Wwk7nHL7u299391jQDn1eWNAsZu.jpg?r=b28\"/><span class=\"nm-collections-title-img placeholder\"></span><span class=\"nm-collections-title-name\">매니페스트</span></a></li><li class=\"nm-content-horizontal-row-item\" data-uia=\"collections-row-item\"><a class=\"nm-collections-title nm-collections-link\" data-uia=\"collections-title\" href=\"https://www.netflix.com/kr/title/81287562\"><img alt=\"\" class=\"nm-collections-title-img\" data-title-id=\"81287562\" src=\"https://occ-0-2794-988.1.nflxso.net/dnm/api/v6/6gmvu2hxdfnQ55LZZjyzYR4kzGk/AAAABVrePGqwvLunZiAE2Ta7BE2P8KTv6HFTGEAjfJqAOpZMhXH-dhw5KUvxrm39myrdnRknEV2QmE4aWOLD7XJ2oBg6HhfPlIW-8L_YBGzRNXnJ2zonAskkz5YL_oJ_RgFABB3J.jpg?r=ddc\"/><span class=\"nm-collections-title-img placeholder\"></span><span class=\"nm-collections-title-name\">다머</span></a></li><li class=\"nm-content-horizontal-row-item\" data-uia=\"collections-row-item\"><a class=\"nm-collections-title nm-collections-link\" data-uia=\"collections-title\" href=\"https://www.netflix.com/kr/title/80104198\"><img alt=\"\" class=\"nm-collections-title-img\" data-title-id=\"80104198\" src=\"https://occ-0-2794-988.1.nflxso.net/dnm/api/v6/6gmvu2hxdfnQ55LZZjyzYR4kzGk/AAAABdy6Js5GmZtzVrd_KxlVCKt6MUjzXxMjl3gZsJB4VyTF7m6J47rxASM5On9E-OW3C4e_RlmZ7jT2JFW_D8B9YTpAIwW2meHfzxzrYW4QDkVdGTmcFhxWFEjkFHjvJlpo0Z_I.jpg?r=171\"/><span class=\"nm-collections-title-img placeholder\"></span><span class=\"nm-collections-title-name\">로스트 인 스페이스</span></a></li><li class=\"nm-content-horizontal-row-item\" data-uia=\"collections-row-item\"><a class=\"nm-collections-title nm-collections-link\" data-uia=\"collections-title\" href=\"https://www.netflix.com/kr/title/81312802\"><img alt=\"\" class=\"nm-collections-title-img\" data-title-id=\"81312802\" src=\"https://occ-0-2794-988.1.nflxso.net/dnm/api/v6/6gmvu2hxdfnQ55LZZjyzYR4kzGk/AAAABTBpOGewUpY6u95kAOOLjbO98_qDq2V2YS__b1unakcYDd8Q13qfFgoVorSgTtifTHb0hue6y78JzHJdgl79crr8BdAo-rRJBnc0ldVzGdwlEmGlQeiLnZANBlMYbChdLkfo.jpg?r=6da\"/><span class=\"nm-collections-title-img placeholder\"></span><span class=\"nm-collections-title-name\">소년심판</span></a></li><li class=\"nm-content-horizontal-row-item\" data-uia=\"collections-row-item\"><a class=\"nm-collections-title nm-collections-link\" data-uia=\"collections-title\" href=\"https://www.netflix.com/kr/title/80117803\"><img alt=\"\" class=\"nm-collections-title-img\" data-title-id=\"80117803\" src=\"https://occ-0-2794-988.1.nflxso.net/dnm/api/v6/6gmvu2hxdfnQ55LZZjyzYR4kzGk/AAAABbC_MWrn9HK_XCyGdS_t6bLowG-wCcFWJUemXfhv6HQ4DHXR-JFzoeIaXSNGbByVxFweAa1LMiAedjv8PPghJahmX5d0Eb9WFA3fm8hUsuJWra8pM2GWWDHmkVqGF10Ghnjq.jpg?r=76d\"/><span class=\"nm-collections-title-img placeholder\"></span><span class=\"nm-collections-title-name\">슈퍼키드 디온</span></a></li><li class=\"nm-content-horizontal-row-item\" data-uia=\"collections-row-item\"><a class=\"nm-collections-title nm-collections-link\" data-uia=\"collections-title\" href=\"https://www.netflix.com/kr/title/80057918\"><img alt=\"\" class=\"nm-collections-title-img\" data-title-id=\"80057918\" src=\"data:image/gif;base64,R0lGODlhAQABAAAAACH5BAEKAAEALAAAAAABAAEAAAICTAEAOw==\"/><span class=\"nm-collections-title-img placeholder\"></span><span class=\"nm-collections-title-name\">루시퍼</span></a></li><li class=\"nm-content-horizontal-row-item\" data-uia=\"collections-row-item\"><a class=\"nm-collections-title nm-collections-link\" data-uia=\"collections-title\" href=\"https://www.netflix.com/kr/title/80057281\"><img alt=\"\" class=\"nm-collections-title-img\" data-title-id=\"80057281\" src=\"data:image/gif;base64,R0lGODlhAQABAAAAACH5BAEKAAEALAAAAAABAAEAAAICTAEAOw==\"/><span class=\"nm-collections-title-img placeholder\"></span><span class=\"nm-collections-title-name\">기묘한 이야기</span></a></li><li class=\"nm-content-horizontal-row-item\" data-uia=\"collections-row-item\"><a class=\"nm-collections-title nm-collections-link\" data-uia=\"collections-title\" href=\"https://www.netflix.com/kr/title/81040344\"><img alt=\"\" class=\"nm-collections-title-img\" data-title-id=\"81040344\" src=\"data:image/gif;base64,R0lGODlhAQABAAAAACH5BAEKAAEALAAAAAABAAEAAAICTAEAOw==\"/><span class=\"nm-collections-title-img placeholder\"></span><span class=\"nm-collections-title-name\">오징어 게임</span></a></li><li class=\"nm-content-horizontal-row-item\" data-uia=\"collections-row-item\"><a class=\"nm-collections-title nm-collections-link\" data-uia=\"collections-title\" href=\"https://www.netflix.com/kr/title/81237994\"><img alt=\"\" class=\"nm-collections-title-img\" data-title-id=\"81237994\" src=\"data:image/gif;base64,R0lGODlhAQABAAAAACH5BAEKAAEALAAAAAABAAEAAAICTAEAOw==\"/><span class=\"nm-collections-title-img placeholder\"></span><span class=\"nm-collections-title-name\">지금 우리 학교는</span></a></li><li class=\"nm-content-horizontal-row-item\" data-uia=\"collections-row-item\"><a class=\"nm-collections-title nm-collections-link\" data-uia=\"collections-title\" href=\"https://www.netflix.com/kr/title/80189685\"><img alt=\"\" class=\"nm-collections-title-img\" data-title-id=\"80189685\" src=\"data:image/gif;base64,R0lGODlhAQABAAAAACH5BAEKAAEALAAAAAABAAEAAAICTAEAOw==\"/><span class=\"nm-collections-title-img placeholder\"></span><span class=\"nm-collections-title-name\">위쳐</span></a></li><li class=\"nm-content-horizontal-row-item\" data-uia=\"collections-row-item\"><a class=\"nm-collections-title nm-collections-link\" data-uia=\"collections-title\" href=\"https://www.netflix.com/kr/title/80211991\"><img alt=\"\" class=\"nm-collections-title-img\" data-title-id=\"80211991\" src=\"data:image/gif;base64,R0lGODlhAQABAAAAACH5BAEKAAEALAAAAAABAAEAAAICTAEAOw==\"/><span class=\"nm-collections-title-img placeholder\"></span><span class=\"nm-collections-title-name\">너의 모든 것</span></a></li><li class=\"nm-content-horizontal-row-item\" data-uia=\"collections-row-item\"><a class=\"nm-collections-title nm-collections-link\" data-uia=\"collections-title\" href=\"https://www.netflix.com/kr/title/80130521\"><img alt=\"\" class=\"nm-collections-title-img\" data-title-id=\"80130521\" src=\"data:image/gif;base64,R0lGODlhAQABAAAAACH5BAEKAAEALAAAAAABAAEAAAICTAEAOw==\"/><span class=\"nm-collections-title-img placeholder\"></span><span class=\"nm-collections-title-name\">꼴찌 마녀 밀드레드</span></a></li><li class=\"nm-content-horizontal-row-item\" data-uia=\"collections-row-item\"><a class=\"nm-collections-title nm-collections-link\" data-uia=\"collections-title\" href=\"https://www.netflix.com/kr/title/80996973\"><img alt=\"\" class=\"nm-collections-title-img\" data-title-id=\"80996973\" src=\"data:image/gif;base64,R0lGODlhAQABAAAAACH5BAEKAAEALAAAAAABAAEAAAICTAEAOw==\"/><span class=\"nm-collections-title-img placeholder\"></span><span class=\"nm-collections-title-name\">절대쌍교</span></a></li><li class=\"nm-content-horizontal-row-item\" data-uia=\"collections-row-item\"><a class=\"nm-collections-title nm-collections-link\" data-uia=\"collections-title\" href=\"https://www.netflix.com/kr/title/81011211\"><img alt=\"\" class=\"nm-collections-title-img\" data-title-id=\"81011211\" src=\"data:image/gif;base64,R0lGODlhAQABAAAAACH5BAEKAAEALAAAAAABAAEAAAICTAEAOw==\"/><span class=\"nm-collections-title-img placeholder\"></span><span class=\"nm-collections-title-name\">마이 네임</span></a></li><li class=\"nm-content-horizontal-row-item\" data-uia=\"collections-row-item\"><a class=\"nm-collections-title nm-collections-link\" data-uia=\"collections-title\" href=\"https://www.netflix.com/kr/title/81349413\"><img alt=\"\" class=\"nm-collections-title-img\" data-title-id=\"81349413\" src=\"data:image/gif;base64,R0lGODlhAQABAAAAACH5BAEKAAEALAAAAAABAAEAAAICTAEAOw==\"/><span class=\"nm-collections-title-img placeholder\"></span><span class=\"nm-collections-title-name\">모범가족</span></a></li><li class=\"nm-content-horizontal-row-item\" data-uia=\"collections-row-item\"><a class=\"nm-collections-title nm-collections-link\" data-uia=\"collections-title\" href=\"https://www.netflix.com/kr/title/80002479\"><img alt=\"\" class=\"nm-collections-title-img\" data-title-id=\"80002479\" src=\"data:image/gif;base64,R0lGODlhAQABAAAAACH5BAEKAAEALAAAAAABAAEAAAICTAEAOw==\"/><span class=\"nm-collections-title-img placeholder\"></span><span class=\"nm-collections-title-name\">피키 블라인더스</span></a></li><li class=\"nm-content-horizontal-row-item\" data-uia=\"collections-row-item\"><a class=\"nm-collections-title nm-collections-link\" data-uia=\"collections-title\" href=\"https://www.netflix.com/kr/title/80113647\"><img alt=\"\" class=\"nm-collections-title-img\" data-title-id=\"80113647\" src=\"data:image/gif;base64,R0lGODlhAQABAAAAACH5BAEKAAEALAAAAAABAAEAAAICTAEAOw==\"/><span class=\"nm-collections-title-img placeholder\"></span><span class=\"nm-collections-title-name\">지정생존자</span></a></li><li class=\"nm-content-horizontal-row-item\" data-uia=\"collections-row-item\"><a class=\"nm-collections-title nm-collections-link\" data-uia=\"collections-title\" href=\"https://www.netflix.com/kr/title/81018682\"><img alt=\"\" class=\"nm-collections-title-img\" data-title-id=\"81018682\" src=\"data:image/gif;base64,R0lGODlhAQABAAAAACH5BAEKAAEALAAAAAABAAEAAAICTAEAOw==\"/><span class=\"nm-collections-title-img placeholder\"></span><span class=\"nm-collections-title-name\">씨 비스트</span></a></li><li class=\"nm-content-horizontal-row-item\" data-uia=\"collections-row-item\"><a class=\"nm-collections-title nm-collections-link\" data-uia=\"collections-title\" href=\"https://www.netflix.com/kr/title/80232398\"><img alt=\"\" class=\"nm-collections-title-img\" data-title-id=\"80232398\" src=\"data:image/gif;base64,R0lGODlhAQABAAAAACH5BAEKAAEALAAAAAABAAEAAAICTAEAOw==\"/><span class=\"nm-collections-title-img placeholder\"></span><span class=\"nm-collections-title-name\">브리저튼</span></a></li><li class=\"nm-content-horizontal-row-item\" data-uia=\"collections-row-item\"><a class=\"nm-collections-title nm-collections-link\" data-uia=\"collections-title\" href=\"https://www.netflix.com/kr/title/81437344\"><img alt=\"\" class=\"nm-collections-title-img\" data-title-id=\"81437344\" src=\"data:image/gif;base64,R0lGODlhAQABAAAAACH5BAEKAAEALAAAAAABAAEAAAICTAEAOw==\"/><span class=\"nm-collections-title-img placeholder\"></span><span class=\"nm-collections-title-name\">서울대작전</span></a></li><li class=\"nm-content-horizontal-row-item\" data-uia=\"collections-row-item\"><a class=\"nm-collections-title nm-collections-link\" data-uia=\"collections-title\" href=\"https://www.netflix.com/kr/title/81227574\"><img alt=\"\" class=\"nm-collections-title-img\" data-title-id=\"81227574\" src=\"data:image/gif;base64,R0lGODlhAQABAAAAACH5BAEKAAEALAAAAAABAAEAAAICTAEAOw==\"/><span class=\"nm-collections-title-img placeholder\"></span><span class=\"nm-collections-title-name\">쿵푸팬더: 용의 기사</span></a></li><li class=\"nm-content-horizontal-row-item\" data-uia=\"collections-row-item\"><a class=\"nm-collections-title nm-collections-link\" data-uia=\"collections-title\" href=\"https://www.netflix.com/kr/title/81037371\"><img alt=\"\" class=\"nm-collections-title-img\" data-title-id=\"81037371\" src=\"data:image/gif;base64,R0lGODlhAQABAAAAACH5BAEKAAEALAAAAAABAAEAAAICTAEAOw==\"/><span class=\"nm-collections-title-img placeholder\"></span><span class=\"nm-collections-title-name\">에밀리, 파리에 가다</span></a></li><li class=\"nm-content-horizontal-row-item\" data-uia=\"collections-row-item\"><a class=\"nm-collections-title nm-collections-link\" data-uia=\"collections-title\" href=\"https://www.netflix.com/kr/title/80991329\"><img alt=\"\" class=\"nm-collections-title-img\" data-title-id=\"80991329\" src=\"data:image/gif;base64,R0lGODlhAQABAAAAACH5BAEKAAEALAAAAAABAAEAAAICTAEAOw==\"/><span class=\"nm-collections-title-img placeholder\"></span><span class=\"nm-collections-title-name\">라바 아일랜드</span></a></li><li class=\"nm-content-horizontal-row-item\" data-uia=\"collections-row-item\"><a class=\"nm-collections-title nm-collections-link\" data-uia=\"collections-title\" href=\"https://www.netflix.com/kr/title/80192098\"><img alt=\"\" class=\"nm-collections-title-img\" data-title-id=\"80192098\" src=\"data:image/gif;base64,R0lGODlhAQABAAAAACH5BAEKAAEALAAAAAABAAEAAAICTAEAOw==\"/><span class=\"nm-collections-title-img placeholder\"></span><span class=\"nm-collections-title-name\">종이의 집</span></a></li><li class=\"nm-content-horizontal-row-item\" data-uia=\"collections-row-item\"><a class=\"nm-collections-title nm-collections-link\" data-uia=\"collections-title\" href=\"https://www.netflix.com/kr/title/80136311\"><img alt=\"\" class=\"nm-collections-title-img\" data-title-id=\"80136311\" src=\"data:image/gif;base64,R0lGODlhAQABAAAAACH5BAEKAAEALAAAAAABAAEAAAICTAEAOw==\"/><span class=\"nm-collections-title-img placeholder\"></span><span class=\"nm-collections-title-name\">빨간 머리 앤</span></a></li><li class=\"nm-content-horizontal-row-item\" data-uia=\"collections-row-item\"><a class=\"nm-collections-title nm-collections-link\" data-uia=\"collections-title\" href=\"https://www.netflix.com/kr/title/80178943\"><img alt=\"\" class=\"nm-collections-title-img\" data-title-id=\"80178943\" src=\"data:image/gif;base64,R0lGODlhAQABAAAAACH5BAEKAAEALAAAAAABAAEAAAICTAEAOw==\"/><span class=\"nm-collections-title-img placeholder\"></span><span class=\"nm-collections-title-name\">보스 베이비: 돌아온 보스</span></a></li><li class=\"nm-content-horizontal-row-item\" data-uia=\"collections-row-item\"><a class=\"nm-collections-title nm-collections-link\" data-uia=\"collections-title\" href=\"https://www.netflix.com/kr/title/81318108\"><img alt=\"\" class=\"nm-collections-title-img\" data-title-id=\"81318108\" src=\"data:image/gif;base64,R0lGODlhAQABAAAAACH5BAEKAAEALAAAAAABAAEAAAICTAEAOw==\"/><span class=\"nm-collections-title-img placeholder\"></span><span class=\"nm-collections-title-name\">하이 워터</span></a></li><li class=\"nm-content-horizontal-row-item\" data-uia=\"collections-row-item\"><a class=\"nm-collections-title nm-collections-link\" data-uia=\"collections-title\" href=\"https://www.netflix.com/kr/title/81005407\"><img alt=\"\" class=\"nm-collections-title-img\" data-title-id=\"81005407\" src=\"data:image/gif;base64,R0lGODlhAQABAAAAACH5BAEKAAEALAAAAAABAAEAAAICTAEAOw==\"/><span class=\"nm-collections-title-img placeholder\"></span><span class=\"nm-collections-title-name\">베이비시터 클럽</span></a></li><li class=\"nm-content-horizontal-row-item\" data-uia=\"collections-row-item\"><a class=\"nm-collections-title nm-collections-link\" data-uia=\"collections-title\" href=\"https://www.netflix.com/kr/title/80025678\"><img alt=\"\" class=\"nm-collections-title-img\" data-title-id=\"80025678\" src=\"data:image/gif;base64,R0lGODlhAQABAAAAACH5BAEKAAEALAAAAAABAAEAAAICTAEAOw==\"/><span class=\"nm-collections-title-img placeholder\"></span><span class=\"nm-collections-title-name\">더 크라운</span></a></li><li class=\"nm-content-horizontal-row-item\" data-uia=\"collections-row-item\"><a class=\"nm-collections-title nm-collections-link\" data-uia=\"collections-title\" href=\"https://www.netflix.com/kr/title/80197526\"><img alt=\"\" class=\"nm-collections-title-img\" data-title-id=\"80197526\" src=\"data:image/gif;base64,R0lGODlhAQABAAAAACH5BAEKAAEALAAAAAABAAEAAAICTAEAOw==\"/><span class=\"nm-collections-title-img placeholder\"></span><span class=\"nm-collections-title-name\">오티스의 비밀 상담소</span></a></li><li class=\"nm-content-horizontal-row-item\" data-uia=\"collections-row-item\"><a class=\"nm-collections-title nm-collections-link\" data-uia=\"collections-title\" href=\"https://www.netflix.com/kr/title/81256675\"><img alt=\"\" class=\"nm-collections-title-img\" data-title-id=\"81256675\" src=\"data:image/gif;base64,R0lGODlhAQABAAAAACH5BAEKAAEALAAAAAABAAEAAAICTAEAOw==\"/><span class=\"nm-collections-title-img placeholder\"></span><span class=\"nm-collections-title-name\">지옥</span></a></li><li class=\"nm-content-horizontal-row-item\" data-uia=\"collections-row-item\"><a class=\"nm-collections-title nm-collections-link\" data-uia=\"collections-title\" href=\"https://www.netflix.com/kr/title/70285581\"><img alt=\"\" class=\"nm-collections-title-img\" data-title-id=\"70285581\" src=\"data:image/gif;base64,R0lGODlhAQABAAAAACH5BAEKAAEALAAAAAABAAEAAAICTAEAOw==\"/><span class=\"nm-collections-title-img placeholder\"></span><span class=\"nm-collections-title-name\">아웃랜더</span></a></li><li class=\"nm-content-horizontal-row-item\" data-uia=\"collections-row-item\"><a class=\"nm-collections-title nm-collections-link\" data-uia=\"collections-title\" href=\"https://www.netflix.com/kr/title/80025172\"><img alt=\"\" class=\"nm-collections-title-img\" data-title-id=\"80025172\" src=\"data:image/gif;base64,R0lGODlhAQABAAAAACH5BAEKAAEALAAAAAABAAEAAAICTAEAOw==\"/><span class=\"nm-collections-title-img placeholder\"></span><span class=\"nm-collections-title-name\">나르코스</span></a></li><li class=\"nm-content-horizontal-row-item\" data-uia=\"collections-row-item\"><a class=\"nm-collections-title nm-collections-link\" data-uia=\"collections-title\" href=\"https://www.netflix.com/kr/title/81442115\"><img alt=\"\" class=\"nm-collections-title-img\" data-title-id=\"81442115\" src=\"data:image/gif;base64,R0lGODlhAQABAAAAACH5BAEKAAEALAAAAAABAAEAAAICTAEAOw==\"/><span class=\"nm-collections-title-img placeholder\"></span><span class=\"nm-collections-title-name\">블랙의 신부</span></a></li><li class=\"nm-content-horizontal-row-item\" data-uia=\"collections-row-item\"><a class=\"nm-collections-title nm-collections-link\" data-uia=\"collections-title\" href=\"https://www.netflix.com/kr/title/81061734\"><img alt=\"\" class=\"nm-collections-title-img\" data-title-id=\"81061734\" src=\"data:image/gif;base64,R0lGODlhAQABAAAAACH5BAEKAAEALAAAAAABAAEAAAICTAEAOw==\"/><span class=\"nm-collections-title-img placeholder\"></span><span class=\"nm-collections-title-name\">스위트홈</span></a></li><li class=\"nm-content-horizontal-row-item\" data-uia=\"collections-row-item\"><a class=\"nm-collections-title nm-collections-link\" data-uia=\"collections-title\" href=\"https://www.netflix.com/kr/title/80242531\"><img alt=\"\" class=\"nm-collections-title-img\" data-title-id=\"80242531\" src=\"data:image/gif;base64,R0lGODlhAQABAAAAACH5BAEKAAEALAAAAAABAAEAAAICTAEAOw==\"/><span class=\"nm-collections-title-img placeholder\"></span><span class=\"nm-collections-title-name\">컵헤드 쇼!</span></a></li><li class=\"nm-content-horizontal-row-item\" data-uia=\"collections-row-item\"><a class=\"nm-collections-title nm-collections-link\" data-uia=\"collections-title\" href=\"https://www.netflix.com/kr/title/80113701\"><img alt=\"\" class=\"nm-collections-title-img\" data-title-id=\"80113701\" src=\"data:image/gif;base64,R0lGODlhAQABAAAAACH5BAEKAAEALAAAAAABAAEAAAICTAEAOw==\"/><span class=\"nm-collections-title-img placeholder\"></span><span class=\"nm-collections-title-name\">굿 플레이스</span></a></li><li class=\"nm-content-horizontal-row-item\" data-uia=\"collections-row-item\"><a class=\"nm-collections-title nm-collections-link\" data-uia=\"collections-title\" href=\"https://www.netflix.com/kr/title/81500342\"><img alt=\"\" class=\"nm-collections-title-img\" data-title-id=\"81500342\" src=\"data:image/gif;base64,R0lGODlhAQABAAAAACH5BAEKAAEALAAAAAABAAEAAAICTAEAOw==\"/><span class=\"nm-collections-title-img placeholder\"></span><span class=\"nm-collections-title-name\">보스 베이비: 다시 베이비로</span></a></li><li class=\"nm-content-horizontal-row-item\" data-uia=\"collections-row-item\"><a class=\"nm-collections-title nm-collections-link\" data-uia=\"collections-title\" href=\"https://www.netflix.com/kr/title/81154899\"><img alt=\"\" class=\"nm-collections-title-img\" data-title-id=\"81154899\" src=\"data:image/gif;base64,R0lGODlhAQABAAAAACH5BAEKAAEALAAAAAABAAEAAAICTAEAOw==\"/><span class=\"nm-collections-title-img placeholder\"></span><span class=\"nm-collections-title-name\">바다 탐험대 옥토넛: 육지 수호 대작전</span></a></li></ul><button aria-label=\"다음\" class=\"nm-content-horizontal-row-nav next\"><span class=\"nm-content-horizontal-row-nav-icon\"><span class=\"nf-svg-icon\"><svg viewbox=\"0 0 18 18\" xmlns=\"http://www.w3.org/2000/svg\"><path d=\"M11.56 5.56L10.5 4.5 6 9l4.5 4.5 1.06-1.06L8.12 9z\" fill=\"currentColor\"></path></svg></span></span><span class=\"nm-content-horizontal-row-gradient\"></span></button></div></section>"
      ]
     },
     "execution_count": 47,
     "metadata": {},
     "output_type": "execute_result"
    }
   ],
   "source": [
    "# 하나의 섹션 지정하기\n",
    "section = section_list[0]\n",
    "section"
   ]
  },
  {
   "cell_type": "code",
   "execution_count": 49,
   "id": "32ac263d",
   "metadata": {
    "ExecuteTime": {
     "end_time": "2022-10-12T16:20:58.630395Z",
     "start_time": "2022-10-12T16:20:58.619952Z"
    }
   },
   "outputs": [
    {
     "data": {
      "text/plain": [
       "[<h2 class=\"nm-collections-row-name\" data-uia=\"collections-row-title\"><a class=\"nm-collections-link\" href=\"https://www.netflix.com/kr/browse/genre/1365\"><span class=\"nm-collections-row-name\">넷플릭스 인기 콘텐츠</span><span class=\"nm-collections-row-link\">더 살펴보기</span></a></h2>]"
      ]
     },
     "execution_count": 49,
     "metadata": {},
     "output_type": "execute_result"
    }
   ],
   "source": [
    "# 섹션 내에서 필요한 정보를 찾을 것임\n",
    "section_title = section.select('h2')\n",
    "# len(section_title) 1개있음\n",
    "section_title"
   ]
  },
  {
   "cell_type": "code",
   "execution_count": 50,
   "id": "1adadeea",
   "metadata": {
    "ExecuteTime": {
     "end_time": "2022-10-12T16:21:03.724618Z",
     "start_time": "2022-10-12T16:21:03.719481Z"
    }
   },
   "outputs": [
    {
     "data": {
      "text/plain": [
       "'넷플릭스 인기 콘텐츠더 살펴보기'"
      ]
     },
     "execution_count": 50,
     "metadata": {},
     "output_type": "execute_result"
    }
   ],
   "source": [
    "section_title[0].text"
   ]
  },
  {
   "cell_type": "code",
   "execution_count": 52,
   "id": "38cff0dc",
   "metadata": {
    "ExecuteTime": {
     "end_time": "2022-10-12T16:21:33.593831Z",
     "start_time": "2022-10-12T16:21:33.582780Z"
    }
   },
   "outputs": [
    {
     "data": {
      "text/plain": [
       "'넷플릭스 인기 콘텐츠더 살펴보기'"
      ]
     },
     "execution_count": 52,
     "metadata": {},
     "output_type": "execute_result"
    }
   ],
   "source": [
    "# section_list 17 --> 첫번째 만 지정해서 찾음\n",
    "\n",
    "section = section_list[0]\n",
    "section_title = section.select('h2')[0].text\n",
    "section_title"
   ]
  },
  {
   "cell_type": "code",
   "execution_count": 53,
   "id": "e490e989",
   "metadata": {
    "ExecuteTime": {
     "end_time": "2022-10-12T16:21:38.804164Z",
     "start_time": "2022-10-12T16:21:38.795964Z"
    }
   },
   "outputs": [
    {
     "data": {
      "text/plain": [
       "'새로 올라온 콘텐츠'"
      ]
     },
     "execution_count": 53,
     "metadata": {},
     "output_type": "execute_result"
    }
   ],
   "source": [
    "section = section_list[1]\n",
    "section_title = section.select('h2')[0].text\n",
    "section_title"
   ]
  },
  {
   "cell_type": "code",
   "execution_count": 109,
   "id": "0f87efbf",
   "metadata": {
    "ExecuteTime": {
     "end_time": "2022-09-16T07:35:15.479318Z",
     "start_time": "2022-09-16T07:35:15.471790Z"
    }
   },
   "outputs": [
    {
     "data": {
      "text/plain": [
       "'넷플릭스 인기 콘텐츠더 살펴보기'"
      ]
     },
     "execution_count": 109,
     "metadata": {},
     "output_type": "execute_result"
    }
   ],
   "source": [
    "section = section_list[2]\n",
    "section_title = section.select('h2')[0].text\n",
    "section_title"
   ]
  },
  {
   "cell_type": "code",
   "execution_count": 55,
   "id": "88282d81",
   "metadata": {
    "ExecuteTime": {
     "end_time": "2022-10-12T16:23:21.962054Z",
     "start_time": "2022-10-12T16:23:21.929977Z"
    }
   },
   "outputs": [
    {
     "name": "stdout",
     "output_type": "stream",
     "text": [
      "넷플릭스 인기 콘텐츠더 살펴보기\n",
      "새로 올라온 콘텐츠\n",
      "액션 & 어드벤처더 살펴보기\n",
      "주말엔 몰아보기!더 살펴보기\n",
      "몰아보기 추천 시리즈더 살펴보기\n",
      "한국 드라마 & 버라이어티\n",
      "애니더 살펴보기\n",
      "평단의 찬사를 받은 시리즈더 살펴보기\n",
      "청소년 시리즈더 살펴보기\n",
      "아시아 영화 & 시리즈더 살펴보기\n",
      "드라마 장르더 살펴보기\n",
      "범죄 시리즈\n",
      "한국 드라마\n",
      "엉뚱 & 허당 캐릭터 집합!더 살펴보기\n",
      "액션 영화\n",
      "스릴러 영화\n"
     ]
    }
   ],
   "source": [
    "for section in section_list:\n",
    "    section == section_list[0]\n",
    "    section_title = section.select('h2')[0].text\n",
    "    print(section_title)"
   ]
  },
  {
   "attachments": {
    "image.png": {
     "image/png": "[encoded data removed]"
    }
   },
   "cell_type": "markdown",
   "id": "90084f0f",
   "metadata": {},
   "source": [
    "![image.png](attachment:image.png)\n",
    "\n",
    "더 살펴보기가 있는 것이 있고, 없는 것이 있는 것 같음"
   ]
  },
  {
   "cell_type": "code",
   "execution_count": 63,
   "id": "0c5dbaa1",
   "metadata": {
    "ExecuteTime": {
     "end_time": "2022-10-12T16:38:37.258668Z",
     "start_time": "2022-10-12T16:38:37.253204Z"
    }
   },
   "outputs": [
    {
     "data": {
      "text/plain": [
       "'신규 콘텐츠'"
      ]
     },
     "execution_count": 63,
     "metadata": {},
     "output_type": "execute_result"
    }
   ],
   "source": [
    "# section_title= '넷플릭스 인기 콘텐츠더 살펴보기'\n",
    "section_title = '신규 콘텐츠'\n",
    "section_title.replace('더 살펴보기','')"
   ]
  },
  {
   "cell_type": "code",
   "execution_count": 65,
   "id": "115ff58b",
   "metadata": {
    "ExecuteTime": {
     "end_time": "2022-10-12T16:41:58.499543Z",
     "start_time": "2022-10-12T16:41:58.469724Z"
    }
   },
   "outputs": [
    {
     "name": "stdout",
     "output_type": "stream",
     "text": [
      "넷플릭스 인기 콘텐츠\n",
      "새로 올라온 콘텐츠\n",
      "액션 & 어드벤처\n",
      "주말엔 몰아보기!\n",
      "몰아보기 추천 시리즈\n",
      "한국 드라마 & 버라이어티\n",
      "애니\n",
      "평단의 찬사를 받은 시리즈\n",
      "청소년 시리즈\n",
      "아시아 영화 & 시리즈\n",
      "드라마 장르\n",
      "범죄 시리즈\n",
      "한국 드라마\n",
      "엉뚱 & 허당 캐릭터 집합!\n",
      "액션 영화\n",
      "스릴러 영화\n"
     ]
    }
   ],
   "source": [
    "# 섹션 제목 정리하기\n",
    "for section in section_list:\n",
    "    section_title = section.select('h2')[0].text.replace('더 살펴보기', '')\n",
    "    print(section_title)"
   ]
  },
  {
   "cell_type": "markdown",
   "id": "1d5938b1",
   "metadata": {},
   "source": [
    "### 4) 프로그램 파트 중 프로그램 찾기"
   ]
  },
  {
   "cell_type": "code",
   "execution_count": 70,
   "id": "ec01e3e1",
   "metadata": {
    "ExecuteTime": {
     "end_time": "2022-10-12T17:06:36.664313Z",
     "start_time": "2022-10-12T17:06:36.632250Z"
    }
   },
   "outputs": [
    {
     "data": {
      "text/plain": [
       "'넷플릭스 인기 콘텐츠'"
      ]
     },
     "execution_count": 70,
     "metadata": {},
     "output_type": "execute_result"
    }
   ],
   "source": [
    "# 섹션 나누기\n",
    "section_list = soup.select(\"section\")\n",
    "\n",
    "# 하나의 섹션 지정하기\n",
    "section = section_list[2]\n",
    "\n",
    "# 섹션 제목 찾기\n",
    "section_title = section.select(\"h2\")[0].text.replace('더 살펴보기', '')\n",
    "section_title"
   ]
  },
  {
   "cell_type": "code",
   "execution_count": 71,
   "id": "fffbd996",
   "metadata": {
    "ExecuteTime": {
     "end_time": "2022-10-12T17:06:54.519509Z",
     "start_time": "2022-10-12T17:06:54.511880Z"
    }
   },
   "outputs": [
    {
     "data": {
      "text/plain": [
       "40"
      ]
     },
     "execution_count": 71,
     "metadata": {},
     "output_type": "execute_result"
    }
   ],
   "source": [
    "# 프로그램 파트\n",
    "program_list = section.select('li')\n",
    "len(program_list)"
   ]
  },
  {
   "cell_type": "code",
   "execution_count": null,
   "id": "9f1dfcba",
   "metadata": {},
   "outputs": [],
   "source": []
  }
 ],
 "metadata": {
  "hide_input": false,
  "kernelspec": {
   "display_name": "Python 3 (ipykernel)",
   "language": "python",
   "name": "python3"
  },
  "language_info": {
   "codemirror_mode": {
    "name": "ipython",
    "version": 3
   },
   "file_extension": ".py",
   "mimetype": "text/x-python",
   "name": "python",
   "nbconvert_exporter": "python",
   "pygments_lexer": "ipython3",
   "version": "3.8.13"
  },
  "latex_envs": {
   "LaTeX_envs_menu_present": true,
   "autoclose": false,
   "autocomplete": true,
   "bibliofile": "biblio.bib",
   "cite_by": "apalike",
   "current_citInitial": 1,
   "eqLabelWithNumbers": true,
   "eqNumInitial": 1,
   "hotkeys": {
    "equation": "Ctrl-E",
    "itemize": "Ctrl-I"
   },
   "labels_anchors": false,
   "latex_user_defs": false,
   "report_style_numbering": false,
   "user_envs_cfg": false
  }
 },
 "nbformat": 4,
 "nbformat_minor": 5
}
